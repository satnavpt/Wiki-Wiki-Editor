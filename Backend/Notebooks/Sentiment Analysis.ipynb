{
 "cells": [
  {
   "cell_type": "code",
   "execution_count": 2,
   "id": "681ad411",
   "metadata": {},
   "outputs": [],
   "source": [
    "from nltk.sentiment.vader import SentimentIntensityAnalyzer"
   ]
  },
  {
   "cell_type": "code",
   "execution_count": 6,
   "id": "ae4b9c2b",
   "metadata": {},
   "outputs": [],
   "source": [
    "def check_sentiment(text):\n",
    "    sid = SentimentIntensityAnalyzer()\n",
    "    score = sid.polarity_scores(text)\n",
    "    \n",
    "    if score['neu'] >= score['pos'] and score['neu'] >= score['neg']:\n",
    "        return []\n",
    "    \n",
    "    if score['pos'] >= score['neg'] and score['pos'] >= score['neu']:\n",
    "        return [\"It appears this article is too positive!\"]\n",
    "    \n",
    "    return [\"It appears this article is too negative!\"]"
   ]
  },
  {
   "cell_type": "code",
   "execution_count": 12,
   "id": "57705fa9",
   "metadata": {},
   "outputs": [
    {
     "data": {
      "text/plain": [
       "[]"
      ]
     },
     "execution_count": 12,
     "metadata": {},
     "output_type": "execute_result"
    }
   ],
   "source": [
    "check_sentiment(\"biog\")"
   ]
  },
  {
   "cell_type": "code",
   "execution_count": null,
   "id": "27914bff",
   "metadata": {},
   "outputs": [],
   "source": []
  }
 ],
 "metadata": {
  "kernelspec": {
   "display_name": "Python 3 (ipykernel)",
   "language": "python",
   "name": "python3"
  },
  "language_info": {
   "codemirror_mode": {
    "name": "ipython",
    "version": 3
   },
   "file_extension": ".py",
   "mimetype": "text/x-python",
   "name": "python",
   "nbconvert_exporter": "python",
   "pygments_lexer": "ipython3",
   "version": "3.9.10"
  }
 },
 "nbformat": 4,
 "nbformat_minor": 5
}
