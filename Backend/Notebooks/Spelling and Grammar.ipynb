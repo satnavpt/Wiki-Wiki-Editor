{
 "cells": [
  {
   "cell_type": "code",
   "execution_count": 1,
   "id": "7c89ae39",
   "metadata": {},
   "outputs": [],
   "source": [
    "import language_tool_python\n",
    "tool = language_tool_python.LanguageToolPublicAPI('en-GB')"
   ]
  },
  {
   "cell_type": "code",
   "execution_count": null,
   "id": "d3becb3c",
   "metadata": {},
   "outputs": [],
   "source": []
  },
  {
   "cell_type": "code",
   "execution_count": 2,
   "id": "29a0fa16",
   "metadata": {},
   "outputs": [],
   "source": [
    "def spelling_and_grammar(text):\n",
    "    tool = language_tool_python.LanguageToolPublicAPI('en-GB')\n",
    "    matches = tool.check(text)\n",
    "    \n",
    "    is_bad_rule = lambda rule: rule.message == 'Possible spelling mistake found.' and len(rule.replacements) and rule.replacements[0][0].isupper()\n",
    "    \n",
    "    matches = [rule for rule in matches if not is_bad_rule(rule)]\n",
    "    \n",
    "    return matches"
   ]
  },
  {
   "cell_type": "code",
   "execution_count": 45,
   "id": "41b56369",
   "metadata": {},
   "outputs": [],
   "source": [
    "def correct_given_mistake(text, match):\n",
    "    return language_tool_python.utils.correct(text, [match])"
   ]
  },
  {
   "cell_type": "code",
   "execution_count": 46,
   "id": "15439842",
   "metadata": {},
   "outputs": [],
   "source": [
    "test = spelling_and_grammar(\"This are bad\")"
   ]
  },
  {
   "cell_type": "code",
   "execution_count": 47,
   "id": "0b869aea",
   "metadata": {},
   "outputs": [
    {
     "data": {
      "text/plain": [
       "'These are bad'"
      ]
     },
     "execution_count": 47,
     "metadata": {},
     "output_type": "execute_result"
    }
   ],
   "source": [
    "correct_given_mistake(\"This are bad\", test[0])"
   ]
  },
  {
   "cell_type": "code",
   "execution_count": null,
   "id": "3f33b4dd",
   "metadata": {},
   "outputs": [],
   "source": []
  },
  {
   "cell_type": "code",
   "execution_count": null,
   "id": "b387f236",
   "metadata": {},
   "outputs": [],
   "source": []
  },
  {
   "cell_type": "code",
   "execution_count": null,
   "id": "fec8a123",
   "metadata": {},
   "outputs": [],
   "source": []
  }
 ],
 "metadata": {
  "kernelspec": {
   "display_name": "Python 3 (ipykernel)",
   "language": "python",
   "name": "python3"
  },
  "language_info": {
   "codemirror_mode": {
    "name": "ipython",
    "version": 3
   },
   "file_extension": ".py",
   "mimetype": "text/x-python",
   "name": "python",
   "nbconvert_exporter": "python",
   "pygments_lexer": "ipython3",
   "version": "3.9.10"
  }
 },
 "nbformat": 4,
 "nbformat_minor": 5
}
