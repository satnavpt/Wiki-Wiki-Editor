{
 "cells": [
  {
   "cell_type": "code",
   "execution_count": 2,
   "id": "7935e594",
   "metadata": {},
   "outputs": [],
   "source": [
    "import mwxml\n",
    "import pickle\n",
    "import re\n",
    "import glob\n",
    "from sklearn.feature_extraction.text import TfidfVectorizer\n",
    "from sklearn.feature_extraction import text\n",
    "from sklearn.decomposition import NMF"
   ]
  },
  {
   "cell_type": "code",
   "execution_count": 22,
   "id": "c49037b5",
   "metadata": {},
   "outputs": [
    {
     "name": "stdout",
     "output_type": "stream",
     "text": [
      "0\n",
      "1\n",
      "2\n",
      "3\n",
      "4\n",
      "5\n",
      "6\n",
      "7\n",
      "8\n",
      "9\n",
      "10\n",
      "11\n",
      "12\n",
      "13\n",
      "14\n",
      "15\n",
      "16\n",
      "17\n",
      "18\n",
      "19\n",
      "20\n",
      "21\n",
      "22\n",
      "23\n",
      "24\n",
      "25\n",
      "26\n",
      "27\n",
      "28\n",
      "29\n",
      "30\n",
      "31\n",
      "32\n",
      "33\n",
      "34\n",
      "35\n",
      "36\n",
      "37\n",
      "38\n",
      "39\n",
      "40\n",
      "41\n",
      "42\n",
      "43\n",
      "44\n",
      "45\n",
      "46\n",
      "47\n",
      "48\n",
      "49\n",
      "50\n",
      "51\n",
      "52\n",
      "53\n",
      "54\n",
      "55\n",
      "56\n",
      "57\n",
      "58\n",
      "59\n",
      "60\n",
      "61\n"
     ]
    }
   ],
   "source": [
    "proc = glob.glob(\"F:/_GroupProject/WordsOnlyData/*\")\n",
    "\n",
    "def fit_iterator():\n",
    "    file_count = 0\n",
    "    for file_path in proc:\n",
    "        print(file_count)\n",
    "        if file_count % 5 == 0:\n",
    "            with open(file_path, \"rb\") as file:\n",
    "                pages = pickle.load(file)\n",
    "                for page in pages:\n",
    "                    yield page[1]\n",
    "        file_count += 1\n",
    "        \n",
    "words_to_ignore = [\"wikipedia\", \"wikiproject\", \"mediawiki\", \"reportscoibot\", \"com\", \"co.uk\", \"userbox\", \"user\", \"collapsible\",\n",
    "                  \"accounts\", \"reporting\", \"rollbacker\", \"coi\", \"en\", \"wp\", \"speciesbox\", \"png\", \"jpg\", \"svg\", \"navbox\", \"template\",\n",
    "                  \"archived\", \"discussion\", \"deletion\", \"afd\", \"articles\", \"article\", \"non\", \"el\", \"delete\", \"link\", \"linkreports\", \"data\",\n",
    "                  \"links\", \"ru\", \"asbox\", \"ebauche\", \"article\", \"articles\", \"comments\", \"new\", \"logo\", \"sources\", \"edits\", \"comment\",\n",
    "                  \"linkwatcher\", \"coibot\", \"logos\", \"mm\", \"mk\", \"ar\", \"cs\", \"org\", \"net\", \"don\", \"bar\", \"wikitab\", \"width\", \"fontsize\", \"font\",\n",
    "                  \"wikitable\", \"cydebot\", \"url\", \"notoc\"]\n",
    "\n",
    "stop = text.ENGLISH_STOP_WORDS.union(words_to_ignore)\n",
    "\n",
    "tfidf = TfidfVectorizer(max_df=0.40, min_df=2, stop_words=stop, token_pattern = r\"(?u)\\b\\w\\w\\w+\\b\")\n",
    "corpus = fit_iterator()\n",
    "dtm = tfidf.fit_transform(corpus)\n"
   ]
  },
  {
   "cell_type": "code",
   "execution_count": 23,
   "id": "e752b0e2",
   "metadata": {},
   "outputs": [
    {
     "data": {
      "text/plain": [
       "NMF(n_components=30, random_state=42)"
      ]
     },
     "execution_count": 23,
     "metadata": {},
     "output_type": "execute_result"
    }
   ],
   "source": [
    "nmf_model = NMF(n_components=30, random_state=42)\n",
    "nmf_model.fit(dtm)"
   ]
  },
  {
   "cell_type": "code",
   "execution_count": 24,
   "id": "50121eda",
   "metadata": {},
   "outputs": [
    {
     "name": "stdout",
     "output_type": "stream",
     "text": [
      "The top 15 words for topic #0\n",
      "['screenshot', 'sole', 'description', 'title', 'media', 'image', 'biog', 'card', 'game', 'book', 'cover', 'video', 'use', 'free', 'rationale']\n",
      "\n",
      "\n",
      "The top 15 words for topic #1\n",
      "['appropriate', 'format', 'seeing', 'manually', 'nominate', 'pagename', 'proposed', 'edit', 'preserved', 'archive', 'result', 'create', 'nomination', 'debate', 'page']\n",
      "\n",
      "\n",
      "The top 15 words for topic #2\n",
      "['low', 'resolution', 'illegal', 'description', 'ratings', 'fair', 'copyright', 'artwork', 'use', 'copies', 'game', 'video', 'book', 'album', 'cover']\n",
      "\n",
      "\n",
      "The top 15 words for topic #3\n",
      "['work', 'pages', 'photo', 'poetry', 'technology', 'need', 'merge', 'facebook', 'corresponding', 'talk', 'translation', 'assessment', 'published', 'previously', 'information']\n",
      "\n",
      "\n",
      "The top 15 words for topic #4\n",
      "['does', 'having', 'report', 'reported', 'intended', 'adding', 'conflict', 'gets', 'spam', 'external', 'statistics', 'imply', 'spamming', 'involved', 'records']\n",
      "\n",
      "\n",
      "The top 15 words for topic #5\n",
      "['british', 'company', 'american', 'general', 'years', 'church', 'work', 'states', 'book', 'world', 'time', 'people', 'united', 'university', 'war']\n",
      "\n",
      "\n",
      "The top 15 words for topic #6\n",
      "['organization', 'nippon', 'free', 'vaizdas', 'fort', 'appear', 'river', 'reduce', 'trade', 'benuliak', 'file', 'specifically', 'film', 'album', 'fur']\n",
      "\n",
      "\n",
      "The top 15 words for topic #7\n",
      "['old', 'left', 'mentioned', 'marked', 'local', 'stale', 'autostale', 'talk', 'entry', 'details', 'report', 'reported', 'log', 'blacklist', 'spam']\n",
      "\n",
      "\n",
      "The top 15 words for topic #8\n",
      "['states', 'united', 'james', 'american', 'john', 'township', 'formula', 'william', 'molecular', 'villages', 'following', 'surname', 'places', 'romania', 'refer']\n",
      "\n",
      "\n",
      "The top 15 words for topic #9\n",
      "['player', 'players', 'women', 'games', 'rugby', 'game', 'cricket', 'championship', 'club', 'national', 'cup', 'played', 'season', 'team', 'league']\n",
      "\n",
      "\n",
      "The top 15 words for topic #10\n",
      "['файл', 'copyright', 'arguably', 'belong', 'detract', 'informational', 'used', 'resolution', 'images', 'believed', 'original', 'use', 'film', 'media', 'poster']\n",
      "\n",
      "\n",
      "The top 15 words for topic #11\n",
      "['does', 'rights', 'free', 'way', 'original', 'limit', 'copies', 'low', 'subject', 'use', 'fair', 'resolution', 'used', 'copyright', 'image']\n",
      "\n",
      "\n",
      "The top 15 words for topic #12\n",
      "['sockpuppets', 'pages', 'edit', 'admin', 'editing', 'blocked', 'main', 'shell', 'appearance', 'numbered', 'talk', 'recent', 'recorded', 'users', 'additions']\n",
      "\n",
      "\n",
      "The top 15 words for topic #13\n",
      "['related', 'add', 'added', 'parameters', 'includes', 'lists', 'assessment', 'players', 'categories', 'automatically', 'help', 'year', 'contains', 'stub', 'category']\n",
      "\n",
      "\n",
      "The top 15 words for topic #14\n",
      "['project', 'subgroup', 'members', 'teams', 'steward', 'checkuser', 'bureaucrat', 'groups', 'bot', 'reviewer', 'sysop', 'group', 'trusted', 'wikis', 'whitelisted']\n",
      "\n",
      "\n",
      "The top 15 words for topic #15\n",
      "['general', 'labour', 'republican', 'liberal', 'assembly', 'elected', 'elections', 'democratic', 'percentage', 'change', 'votes', 'box', 'candidate', 'election', 'party']\n",
      "\n",
      "\n",
      "The top 15 words for topic #16\n",
      "['listing', 'chart', 'studio', 'vocals', 'guitar', 'billboard', 'songs', 'rock', 'track', 'single', 'band', 'released', 'song', 'music', 'album']\n",
      "\n",
      "\n",
      "The top 15 words for topic #17\n",
      "['distance', 'polo', 'field', 'event', 'championships', 'winter', 'tournament', 'hockey', 'women', 'metres', 'athletics', 'men', 'competed', 'summer', 'olympics']\n",
      "\n",
      "\n",
      "The top 15 words for topic #18\n",
      "['automatic', 'lepidoptera', 'taxobox', 'noctuidae', 'sea', 'beetle', 'web', 'snail', 'cite', 'marine', 'described', 'moth', 'genus', 'family', 'species']\n",
      "\n",
      "\n",
      "The top 15 words for topic #19\n",
      "['covering', 'software', 'illustrated', 'coverage', 'tournament', 'scanned', 'times', 'google', 'news', 'notability', 'thank', 'internet', 'reliable', 'source', 'immediate']\n",
      "\n",
      "\n",
      "The top 15 words for topic #20\n",
      "['located', 'house', 'places', 'register', 'area', 'virginia', 'community', 'state', 'historic', 'unincorporated', 'ohio', 'states', 'united', 'township', 'county']\n",
      "\n",
      "\n",
      "The top 15 words for topic #21\n",
      "['allen', 'theleekycauldron', 'yoninah', 'cwmhiraeth', 'result', 'following', 'nomination', 'subsequent', 'appropriate', 'promoted', 'open', 'unless', 'consensus', 'dyk', 'page']\n",
      "\n",
      "\n",
      "The top 15 words for topic #22\n",
      "['rivers', 'add', 'airdate', 'lists', 'aired', 'films', 'river', 'table', 'season', 'television', 'episodes', 'sublist', 'series', 'episode', 'list']\n",
      "\n",
      "\n",
      "The top 15 words for topic #23\n",
      "['silent', 'movie', 'starring', 'drama', 'actor', 'media', 'television', 'director', 'awards', 'best', 'award', 'festival', 'directed', 'films', 'film']\n",
      "\n",
      "\n",
      "The top 15 words for topic #24\n",
      "['head', 'tournament', 'ncaa', 'season', 'team', 'men', 'cfb', 'conference', 'coach', 'yearly', 'record', 'basketball', 'entry', 'schedule', 'cbb']\n",
      "\n",
      "\n",
      "The top 15 words for topic #25\n",
      "['national', 'stadium', 'american', 'division', 'season', 'played', 'coach', 'college', 'cfb', 'club', 'footballer', 'team', 'association', 'box', 'football']\n",
      "\n",
      "\n",
      "The top 15 words for topic #26\n",
      "['street', 'train', 'platform', 'trains', 'rail', 'north', 'opened', 'stations', 'road', 'south', 'radio', 'located', 'line', 'railway', 'station']\n",
      "\n",
      "\n",
      "The top 15 words for topic #27\n",
      "['town', 'india', 'rural', 'located', 'serbia', 'according', 'province', 'municipalities', 'census', 'district', 'population', 'bosnia', 'herzegovina', 'municipality', 'village']\n",
      "\n",
      "\n",
      "The top 15 words for topic #28\n",
      "['science', 'academy', 'texas', 'public', 'secondary', 'elementary', 'state', 'schools', 'education', 'district', 'students', 'college', 'university', 'high', 'school']\n",
      "\n",
      "\n",
      "The top 15 words for topic #29\n",
      "['darkgrey', 'gridcolor', 'increment', 'start', 'sortable', 'value', 'color', 'size', 'center', 'align', 'style', 'shift', 'class', 'till', 'text']\n",
      "\n",
      "\n"
     ]
    }
   ],
   "source": [
    "for index,topic in enumerate(nmf_model.components_):\n",
    "    print(f\"The top 15 words for topic #{index}\")\n",
    "    # get words with highest coefficient values\n",
    "    print([tfidf.get_feature_names()[i] for i in topic.argsort()[-15:]])\n",
    "    print(\"\\n\")"
   ]
  },
  {
   "cell_type": "code",
   "execution_count": 16,
   "id": "2abfbc1e",
   "metadata": {},
   "outputs": [],
   "source": [
    "X = tfidf.transform([\"Apple Inc. is an American multinational technology company that specializes in consumer electronics, software and online services. Apple is the largest information technology company by revenue (totaling US$365.8 billion in 2021) and, as of January 2021, it is the world's most valuable company, the fourth-largest personal computer vendor by unit sales and second-largest mobile phone manufacturer. It is one of the Big Five American information technology companies, alongside Alphabet, Amazon, Meta, and Microsoft. \"])"
   ]
  },
  {
   "cell_type": "code",
   "execution_count": 17,
   "id": "606fa8b7",
   "metadata": {},
   "outputs": [],
   "source": [
    "nmf_features = nmf_model.transform(X)"
   ]
  },
  {
   "cell_type": "code",
   "execution_count": 18,
   "id": "799be34d",
   "metadata": {
    "scrolled": false
   },
   "outputs": [
    {
     "data": {
      "text/plain": [
       "0    3\n",
       "dtype: int64"
      ]
     },
     "execution_count": 18,
     "metadata": {},
     "output_type": "execute_result"
    }
   ],
   "source": [
    "import pandas as pd\n",
    "pd.DataFrame(nmf_features).idxmax(axis=1)"
   ]
  },
  {
   "cell_type": "code",
   "execution_count": 20,
   "id": "88b2281b",
   "metadata": {},
   "outputs": [
    {
     "data": {
      "text/plain": [
       "0    7\n",
       "dtype: int64"
      ]
     },
     "execution_count": 20,
     "metadata": {},
     "output_type": "execute_result"
    }
   ],
   "source": [
    "X = tfidf.transform([\"The Premier League, also known exonymously as the English Premier League or the EPL (legal name: The Football Association Premier League Limited), is the top level of the English football league system. Contested by 20 clubs, it operates on a system of promotion and relegation with the English Football League (EFL). Seasons run from August to May with each team playing 38 matches (playing all 19 other teams both home and away).[1] Most games are played on Saturday and Sunday afternoons. The competition was founded as the FA Premier League on 20 February 1992 following the decision of clubs in the Football League First Division to break away from the Football League, founded in 1888, and take advantage of a lucrative television rights sale to Sky.[2] From 2019 to 2020, the league's accumulated television rights deals were worth around £3.1 billion a year, with Sky and BT Group securing the domestic rights to broadcast 128 and 32 games respectively.[3][4] The Premier League is a corporation where chief executive Richard Masters is responsible for its management, whilst the member clubs act as shareholders.[5] Clubs were apportioned central payment revenues of £2.4 billion in 2016–17, with a further £343 million in solidarity payments to English Football League (EFL) clubs.[6] The Premier League is the most-watched sports league in the world, broadcast in 212 territories to 643 million homes and a potential TV audience of 4.7 billion people.[7][8] For the 2018–19 season, the average Premier League match attendance was at 38,181,[9] second to the German Bundesliga's 43,500,[10] while aggregated attendance across all matches is the highest of any association football league at 14,508,981.[11] Most stadium occupancies are near capacity.[12] The Premier League ranks first in the UEFA coefficients of leagues based on performances in European competitions over the past five seasons as of 2021.[13] The English top-flight has produced the second-highest number of UEFA Champions League/European Cup titles, with five English clubs having won fourteen European trophies in total.\"])\n",
    "nmf_features = nmf_model.transform(X)\n",
    "pd.DataFrame(nmf_features).idxmax(axis=1)"
   ]
  },
  {
   "cell_type": "code",
   "execution_count": null,
   "id": "4026a5fc",
   "metadata": {},
   "outputs": [],
   "source": []
  },
  {
   "cell_type": "code",
   "execution_count": 6,
   "id": "46c03c54",
   "metadata": {},
   "outputs": [],
   "source": [
    "from joblib import dump, load"
   ]
  },
  {
   "cell_type": "code",
   "execution_count": 21,
   "id": "2c85514b",
   "metadata": {},
   "outputs": [
    {
     "data": {
      "text/plain": [
       "['nmf_30_4letters.pkl']"
      ]
     },
     "execution_count": 21,
     "metadata": {},
     "output_type": "execute_result"
    }
   ],
   "source": [
    "dump(tfidf, 'tfidf_30_4letters.pkl')\n",
    "dump(nmf_model, 'nmf_30_4letters.pkl')"
   ]
  },
  {
   "cell_type": "code",
   "execution_count": 27,
   "id": "44418120",
   "metadata": {},
   "outputs": [],
   "source": [
    "test_t = load('tfidf.pkl')\n",
    "test_n = load('nmf.pkl')"
   ]
  },
  {
   "cell_type": "code",
   "execution_count": null,
   "id": "681871c6",
   "metadata": {},
   "outputs": [],
   "source": []
  },
  {
   "cell_type": "code",
   "execution_count": null,
   "id": "3b1abfbf",
   "metadata": {},
   "outputs": [],
   "source": []
  }
 ],
 "metadata": {
  "kernelspec": {
   "display_name": "Python 3 (ipykernel)",
   "language": "python",
   "name": "python3"
  },
  "language_info": {
   "codemirror_mode": {
    "name": "ipython",
    "version": 3
   },
   "file_extension": ".py",
   "mimetype": "text/x-python",
   "name": "python",
   "nbconvert_exporter": "python",
   "pygments_lexer": "ipython3",
   "version": "3.9.10"
  }
 },
 "nbformat": 4,
 "nbformat_minor": 5
}
