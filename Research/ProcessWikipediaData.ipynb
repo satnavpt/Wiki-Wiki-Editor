{
 "cells": [
  {
   "cell_type": "markdown",
   "id": "c7e3efd6",
   "metadata": {},
   "source": [
    "NOTE THAT FILE LOCATIONS ARE LOCAL TO MY MACHINE AND THE FILES ARE NOT CURRENTLY ON THE GITHUB AS THEY ARE VERY LARGE"
   ]
  },
  {
   "cell_type": "code",
   "execution_count": 1,
   "id": "31605b77",
   "metadata": {},
   "outputs": [],
   "source": [
    "import mwxml\n",
    "import pickle, re\n",
    "import glob"
   ]
  },
  {
   "cell_type": "code",
   "execution_count": 2,
   "id": "acc90b1c",
   "metadata": {},
   "outputs": [],
   "source": [
    "paths = glob.glob('F:/_GroupProject/RawData/*.bz2')"
   ]
  },
  {
   "cell_type": "code",
   "execution_count": 3,
   "id": "ce50d8db",
   "metadata": {},
   "outputs": [
    {
     "name": "stdout",
     "output_type": "stream",
     "text": [
      "62\n"
     ]
    }
   ],
   "source": [
    "print(len(paths))"
   ]
  },
  {
   "cell_type": "code",
   "execution_count": 92,
   "id": "a1357ac8",
   "metadata": {},
   "outputs": [],
   "source": [
    "def clean_text(text_to_clean):\n",
    "    #remove text written between double curly braces\n",
    "    text_to_clean = re.sub(r\"{{.*}}\", \"\",text_to_clean)\n",
    "    # remove file attachments\n",
    "    text_to_clean = re.sub(r\"\\[\\[File:.*\\]\\]\", \"\",text_to_clean)\n",
    "    # remove image attachments\n",
    "    text_to_clean = re.sub(r\"\\[\\[Image:.*\\]\\]\", \"\",text_to_clean)\n",
    "    # remove headings\n",
    "    text_to_clean = re.sub(r\"\\==.*\\==\", \"\",text_to_clean)\n",
    "    text_to_clean = re.sub(r\"\\=.*\\=\", \"\",text_to_clean)\n",
    "    # remove unwanted lines starting with special characters\n",
    "    text_to_clean = re.sub(r\"\\n: \\'\\'.*\", \"\",text_to_clean)\n",
    "    text_to_clean = re.sub(r\"\\n!.*\", \"\",text_to_clean)\n",
    "    text_to_clean = re.sub(r\"^:\\'\\'.*\", \"\",text_to_clean)\n",
    "    # replace non-breaking space symbols\n",
    "    text_to_clean = re.sub(r\"&nbsp\", \" \",text_to_clean)\n",
    "    # remove URLs link\n",
    "    text_to_clean = re.sub(r\"http\\S+\",\"\",text_to_clean)\n",
    "    # remove digits from text (debatable, perhaps only delete numbers on their own e.g. 20 and not 20th?)\n",
    "    text_to_clean = re.sub(r\"\\d+\", \"\",text_to_clean)\n",
    "    # remove text in brackets\n",
    "    text_to_clean = re.sub(r\"\\(.*\\)\", \"\",text_to_clean)\n",
    "    text_to_clean = re.sub(r\"\\<.*\\>\", \"\", text_to_clean)\n",
    "    # remove sentences saying the category of the article\n",
    "    text_to_clean = re.sub(r\"Category:.*\", \"\",text_to_clean)\n",
    "    # remove info boxes and taxoboxes\n",
    "    text_to_clean = re.sub(r\"\\| .*\", \"\",text_to_clean)\n",
    "    text_to_clean = re.sub(r\"\\n\\|.*\",\"\",text_to_clean)\n",
    "    text_to_clean = re.sub(r\"\\n \\|.*\",\"\",text_to_clean)\n",
    "    text_to_clean = re.sub(r\".* \\|\\n\",\"\",text_to_clean)\n",
    "    text_to_clean = re.sub(r\".*\\|\\n\",\"\",text_to_clean)\n",
    "    # remove infobox or taxobox\n",
    "    text_to_clean = re.sub(r\"{{Infobox.*\",\"\",text_to_clean)\n",
    "    text_to_clean = re.sub(r\"{{infobox.*\",\"\",text_to_clean)\n",
    "    text_to_clean = re.sub(r\"{{taxobox.*\",\"\",text_to_clean)\n",
    "    text_to_clean = re.sub(r\"{{Taxobox.*\",\"\",text_to_clean)\n",
    "    text_to_clean = re.sub(r\"{{ Infobox.*\",\"\",text_to_clean)\n",
    "    text_to_clean = re.sub(r\"{{ infobox.*\",\"\",text_to_clean)\n",
    "    text_to_clean = re.sub(r\"{{ taxobox.*\",\"\",text_to_clean)\n",
    "    text_to_clean = re.sub(r\"{{ Taxobox.*\",\"\",text_to_clean)\n",
    "    # remove lines starting from *\n",
    "    text_to_clean = re.sub(r\"\\* .*\",\"\",text_to_clean)\n",
    "    # remove new line character\n",
    "    text_to_clean = re.sub(r\"\\n\",\"\",text_to_clean)\n",
    "    # remove image extensions\n",
    "    text_to_clean = re.sub(r\"png\", \"\", text_to_clean)\n",
    "    text_to_clean = re.sub(r\"svg\", \"\", text_to_clean)\n",
    "    text_to_clean = re.sub(r\"jpg\", \"\", text_to_clean)\n",
    "    # replace all punctuations with space\n",
    "    text_to_clean = re.sub(r\"\\!|\\\"|\\#|\\$|\\%|\\&|\\'|\\(|\\)|\\*|\\+|\\,|\\-|\\.|\\/|\\:|\\;|\\|\\?|\\@|\\[|\\\\|\\]|\\^|\\_|\\`|\\{|\\||\\}|\\~\",\" \",text_to_clean)\n",
    "    # replace consecutive multiple space with single space\n",
    "    text_to_clean = re.sub(r\" +\",\" \",text_to_clean)\n",
    "    return text_to_clean"
   ]
  },
  {
   "cell_type": "code",
   "execution_count": 101,
   "id": "3ce5a020",
   "metadata": {},
   "outputs": [],
   "source": [
    "def process_wikidump(dump, path):\n",
    "    # iterate through pages in the dump\n",
    "    for page in dump:\n",
    "        # if the page does redirect then it doesn't contain any data!\n",
    "        if page.redirect == None:\n",
    "            x = 0\n",
    "            for revision in page: # page is an iterator\n",
    "                assert(x == 0) # ensure only one revision in the page (current revision)\n",
    "                x += 1\n",
    "                if (type(revision.text) == str): # ensure revision.text is not None\n",
    "                    cleaned = clean_text(revision.text)\n",
    "                    yield (page.title, clean_text(revision.text))\n",
    "                \n",
    "def begin_process_dump(path, output_file_name):\n",
    "    current = [] # store pages\n",
    "    for title, text in mwxml.map(process_wikidump, path):\n",
    "        current.append((title, text)) # add to list of pages\n",
    "    bf = open(\"F:/_GroupProject/NewWordsOnlyData/\" + output_file_name, \"wb\")\n",
    "    pickle.dump(current, bf, -1) # write the list to file\n",
    "    bf.close()"
   ]
  },
  {
   "cell_type": "code",
   "execution_count": 94,
   "id": "47f7ec81",
   "metadata": {},
   "outputs": [
    {
     "name": "stdout",
     "output_type": "stream",
     "text": [
      "1\n",
      "2\n",
      "3\n",
      "4\n"
     ]
    },
    {
     "ename": "KeyboardInterrupt",
     "evalue": "",
     "output_type": "error",
     "traceback": [
      "\u001b[1;31m---------------------------------------------------------------------------\u001b[0m",
      "\u001b[1;31mKeyboardInterrupt\u001b[0m                         Traceback (most recent call last)",
      "\u001b[1;32m~\\AppData\\Local\\Temp/ipykernel_18832/2214058694.py\u001b[0m in \u001b[0;36m<module>\u001b[1;34m\u001b[0m\n\u001b[0;32m     10\u001b[0m     \u001b[0moutput_file\u001b[0m \u001b[1;33m=\u001b[0m \u001b[0mre\u001b[0m\u001b[1;33m.\u001b[0m\u001b[0msub\u001b[0m\u001b[1;33m(\u001b[0m\u001b[1;34mr\"multistream\"\u001b[0m\u001b[1;33m,\u001b[0m \u001b[1;34m\"\"\u001b[0m\u001b[1;33m,\u001b[0m \u001b[0minput_file_name\u001b[0m\u001b[1;33m)\u001b[0m \u001b[1;33m+\u001b[0m \u001b[1;34m\"_\"\u001b[0m \u001b[1;33m+\u001b[0m \u001b[0mre\u001b[0m\u001b[1;33m.\u001b[0m\u001b[0mfindall\u001b[0m\u001b[1;33m(\u001b[0m\u001b[1;34m\"p\\d+p\\d+\"\u001b[0m\u001b[1;33m,\u001b[0m \u001b[0mcurrent_file\u001b[0m\u001b[1;33m[\u001b[0m\u001b[1;36m0\u001b[0m\u001b[1;33m]\u001b[0m\u001b[1;33m)\u001b[0m\u001b[1;33m[\u001b[0m\u001b[1;36m0\u001b[0m\u001b[1;33m]\u001b[0m\u001b[1;33m\u001b[0m\u001b[1;33m\u001b[0m\u001b[0m\n\u001b[0;32m     11\u001b[0m \u001b[1;33m\u001b[0m\u001b[0m\n\u001b[1;32m---> 12\u001b[1;33m     \u001b[0mbegin_process_dump\u001b[0m\u001b[1;33m(\u001b[0m\u001b[0mcurrent_file\u001b[0m\u001b[1;33m,\u001b[0m \u001b[0moutput_file\u001b[0m\u001b[1;33m)\u001b[0m\u001b[1;33m\u001b[0m\u001b[1;33m\u001b[0m\u001b[0m\n\u001b[0m\u001b[0;32m     13\u001b[0m \u001b[1;33m\u001b[0m\u001b[0m\n\u001b[0;32m     14\u001b[0m     \u001b[0mclear_output\u001b[0m\u001b[1;33m(\u001b[0m\u001b[0mwait\u001b[0m\u001b[1;33m=\u001b[0m\u001b[1;32mTrue\u001b[0m\u001b[1;33m)\u001b[0m\u001b[1;33m\u001b[0m\u001b[1;33m\u001b[0m\u001b[0m\n",
      "\u001b[1;32m~\\AppData\\Local\\Temp/ipykernel_18832/2145890603.py\u001b[0m in \u001b[0;36mbegin_process_dump\u001b[1;34m(path, output_file_name)\u001b[0m\n\u001b[0;32m     22\u001b[0m     \u001b[0mcount\u001b[0m \u001b[1;33m=\u001b[0m \u001b[1;36m0\u001b[0m\u001b[1;33m\u001b[0m\u001b[1;33m\u001b[0m\u001b[0m\n\u001b[0;32m     23\u001b[0m     \u001b[0mcurrent\u001b[0m \u001b[1;33m=\u001b[0m \u001b[1;33m[\u001b[0m\u001b[1;33m]\u001b[0m\u001b[1;33m\u001b[0m\u001b[1;33m\u001b[0m\u001b[0m\n\u001b[1;32m---> 24\u001b[1;33m     \u001b[1;32mfor\u001b[0m \u001b[0mtitle\u001b[0m\u001b[1;33m,\u001b[0m \u001b[0mtext\u001b[0m \u001b[1;32min\u001b[0m \u001b[0mmwxml\u001b[0m\u001b[1;33m.\u001b[0m\u001b[0mmap\u001b[0m\u001b[1;33m(\u001b[0m\u001b[0mprocess_wikidump\u001b[0m\u001b[1;33m,\u001b[0m \u001b[0mpath\u001b[0m\u001b[1;33m)\u001b[0m\u001b[1;33m:\u001b[0m\u001b[1;33m\u001b[0m\u001b[1;33m\u001b[0m\u001b[0m\n\u001b[0m\u001b[0;32m     25\u001b[0m         \u001b[0mcurrent\u001b[0m\u001b[1;33m.\u001b[0m\u001b[0mappend\u001b[0m\u001b[1;33m(\u001b[0m\u001b[1;33m(\u001b[0m\u001b[0mtitle\u001b[0m\u001b[1;33m,\u001b[0m \u001b[0mtext\u001b[0m\u001b[1;33m)\u001b[0m\u001b[1;33m)\u001b[0m\u001b[1;33m\u001b[0m\u001b[1;33m\u001b[0m\u001b[0m\n\u001b[0;32m     26\u001b[0m         \u001b[0mcount\u001b[0m \u001b[1;33m+=\u001b[0m \u001b[1;36m1\u001b[0m\u001b[1;33m\u001b[0m\u001b[1;33m\u001b[0m\u001b[0m\n",
      "\u001b[1;32m~\\AppData\\Local\\Packages\\PythonSoftwareFoundation.Python.3.9_qbz5n2kfra8p0\\LocalCache\\local-packages\\Python39\\site-packages\\mwxml\\map\\map.py\u001b[0m in \u001b[0;36mmap\u001b[1;34m(process, paths, threads)\u001b[0m\n\u001b[0;32m     47\u001b[0m         \u001b[1;32myield\u001b[0m \u001b[1;32mfrom\u001b[0m \u001b[0mprocess\u001b[0m\u001b[1;33m(\u001b[0m\u001b[0mdump\u001b[0m\u001b[1;33m,\u001b[0m \u001b[0mpath\u001b[0m\u001b[1;33m)\u001b[0m\u001b[1;33m\u001b[0m\u001b[1;33m\u001b[0m\u001b[0m\n\u001b[0;32m     48\u001b[0m \u001b[1;33m\u001b[0m\u001b[0m\n\u001b[1;32m---> 49\u001b[1;33m     \u001b[1;32myield\u001b[0m \u001b[1;32mfrom\u001b[0m \u001b[0mpara\u001b[0m\u001b[1;33m.\u001b[0m\u001b[0mmap\u001b[0m\u001b[1;33m(\u001b[0m\u001b[0mprocess_path\u001b[0m\u001b[1;33m,\u001b[0m \u001b[0mpaths\u001b[0m\u001b[1;33m,\u001b[0m \u001b[0mmappers\u001b[0m\u001b[1;33m=\u001b[0m\u001b[0mthreads\u001b[0m\u001b[1;33m)\u001b[0m\u001b[1;33m\u001b[0m\u001b[1;33m\u001b[0m\u001b[0m\n\u001b[0m",
      "\u001b[1;32m~\\AppData\\Local\\Packages\\PythonSoftwareFoundation.Python.3.9_qbz5n2kfra8p0\\LocalCache\\local-packages\\Python39\\site-packages\\para\\map.py\u001b[0m in \u001b[0;36m_map_single_item\u001b[1;34m(process, item)\u001b[0m\n\u001b[0;32m     69\u001b[0m \u001b[1;33m\u001b[0m\u001b[0m\n\u001b[0;32m     70\u001b[0m \u001b[1;32mdef\u001b[0m \u001b[0m_map_single_item\u001b[0m\u001b[1;33m(\u001b[0m\u001b[0mprocess\u001b[0m\u001b[1;33m,\u001b[0m \u001b[0mitem\u001b[0m\u001b[1;33m)\u001b[0m\u001b[1;33m:\u001b[0m\u001b[1;33m\u001b[0m\u001b[1;33m\u001b[0m\u001b[0m\n\u001b[1;32m---> 71\u001b[1;33m     \u001b[1;32myield\u001b[0m \u001b[1;32mfrom\u001b[0m \u001b[0mprocess\u001b[0m\u001b[1;33m(\u001b[0m\u001b[0mitem\u001b[0m\u001b[1;33m)\u001b[0m\u001b[1;33m\u001b[0m\u001b[1;33m\u001b[0m\u001b[0m\n\u001b[0m\u001b[0;32m     72\u001b[0m \u001b[1;33m\u001b[0m\u001b[0m\n\u001b[0;32m     73\u001b[0m \u001b[1;33m\u001b[0m\u001b[0m\n",
      "\u001b[1;32m~\\AppData\\Local\\Packages\\PythonSoftwareFoundation.Python.3.9_qbz5n2kfra8p0\\LocalCache\\local-packages\\Python39\\site-packages\\mwxml\\map\\map.py\u001b[0m in \u001b[0;36mprocess_path\u001b[1;34m(path)\u001b[0m\n\u001b[0;32m     45\u001b[0m     \u001b[1;32mdef\u001b[0m \u001b[0mprocess_path\u001b[0m\u001b[1;33m(\u001b[0m\u001b[0mpath\u001b[0m\u001b[1;33m)\u001b[0m\u001b[1;33m:\u001b[0m\u001b[1;33m\u001b[0m\u001b[1;33m\u001b[0m\u001b[0m\n\u001b[0;32m     46\u001b[0m         \u001b[0mdump\u001b[0m \u001b[1;33m=\u001b[0m \u001b[0mDump\u001b[0m\u001b[1;33m.\u001b[0m\u001b[0mfrom_file\u001b[0m\u001b[1;33m(\u001b[0m\u001b[0mmwtypes\u001b[0m\u001b[1;33m.\u001b[0m\u001b[0mfiles\u001b[0m\u001b[1;33m.\u001b[0m\u001b[0mreader\u001b[0m\u001b[1;33m(\u001b[0m\u001b[0mpath\u001b[0m\u001b[1;33m)\u001b[0m\u001b[1;33m)\u001b[0m\u001b[1;33m\u001b[0m\u001b[1;33m\u001b[0m\u001b[0m\n\u001b[1;32m---> 47\u001b[1;33m         \u001b[1;32myield\u001b[0m \u001b[1;32mfrom\u001b[0m \u001b[0mprocess\u001b[0m\u001b[1;33m(\u001b[0m\u001b[0mdump\u001b[0m\u001b[1;33m,\u001b[0m \u001b[0mpath\u001b[0m\u001b[1;33m)\u001b[0m\u001b[1;33m\u001b[0m\u001b[1;33m\u001b[0m\u001b[0m\n\u001b[0m\u001b[0;32m     48\u001b[0m \u001b[1;33m\u001b[0m\u001b[0m\n\u001b[0;32m     49\u001b[0m     \u001b[1;32myield\u001b[0m \u001b[1;32mfrom\u001b[0m \u001b[0mpara\u001b[0m\u001b[1;33m.\u001b[0m\u001b[0mmap\u001b[0m\u001b[1;33m(\u001b[0m\u001b[0mprocess_path\u001b[0m\u001b[1;33m,\u001b[0m \u001b[0mpaths\u001b[0m\u001b[1;33m,\u001b[0m \u001b[0mmappers\u001b[0m\u001b[1;33m=\u001b[0m\u001b[0mthreads\u001b[0m\u001b[1;33m)\u001b[0m\u001b[1;33m\u001b[0m\u001b[1;33m\u001b[0m\u001b[0m\n",
      "\u001b[1;32m~\\AppData\\Local\\Temp/ipykernel_18832/2145890603.py\u001b[0m in \u001b[0;36mprocess_wikidump\u001b[1;34m(dump, path)\u001b[0m\n\u001b[0;32m      6\u001b[0m         \u001b[1;32mif\u001b[0m \u001b[0mpage\u001b[0m\u001b[1;33m.\u001b[0m\u001b[0mredirect\u001b[0m \u001b[1;33m==\u001b[0m \u001b[1;32mNone\u001b[0m\u001b[1;33m:\u001b[0m\u001b[1;33m\u001b[0m\u001b[1;33m\u001b[0m\u001b[0m\n\u001b[0;32m      7\u001b[0m             \u001b[0mx\u001b[0m \u001b[1;33m=\u001b[0m \u001b[1;36m0\u001b[0m\u001b[1;33m\u001b[0m\u001b[1;33m\u001b[0m\u001b[0m\n\u001b[1;32m----> 8\u001b[1;33m             \u001b[1;32mfor\u001b[0m \u001b[0mrevision\u001b[0m \u001b[1;32min\u001b[0m \u001b[0mpage\u001b[0m\u001b[1;33m:\u001b[0m\u001b[1;33m\u001b[0m\u001b[1;33m\u001b[0m\u001b[0m\n\u001b[0m\u001b[0;32m      9\u001b[0m                 \u001b[1;32massert\u001b[0m\u001b[1;33m(\u001b[0m\u001b[0mx\u001b[0m \u001b[1;33m==\u001b[0m \u001b[1;36m0\u001b[0m\u001b[1;33m)\u001b[0m\u001b[1;33m\u001b[0m\u001b[1;33m\u001b[0m\u001b[0m\n\u001b[0;32m     10\u001b[0m                 \u001b[0mx\u001b[0m \u001b[1;33m+=\u001b[0m \u001b[1;36m1\u001b[0m\u001b[1;33m\u001b[0m\u001b[1;33m\u001b[0m\u001b[0m\n",
      "\u001b[1;32m~\\AppData\\Local\\Packages\\PythonSoftwareFoundation.Python.3.9_qbz5n2kfra8p0\\LocalCache\\local-packages\\Python39\\site-packages\\mwxml\\iteration\\page.py\u001b[0m in \u001b[0;36m__iter__\u001b[1;34m(self)\u001b[0m\n\u001b[0;32m     30\u001b[0m \u001b[1;33m\u001b[0m\u001b[0m\n\u001b[0;32m     31\u001b[0m     \u001b[1;32mdef\u001b[0m \u001b[0m__iter__\u001b[0m\u001b[1;33m(\u001b[0m\u001b[0mself\u001b[0m\u001b[1;33m)\u001b[0m\u001b[1;33m:\u001b[0m\u001b[1;33m\u001b[0m\u001b[1;33m\u001b[0m\u001b[0m\n\u001b[1;32m---> 32\u001b[1;33m         \u001b[1;32mfor\u001b[0m \u001b[0mrevision\u001b[0m \u001b[1;32min\u001b[0m \u001b[0mself\u001b[0m\u001b[1;33m.\u001b[0m\u001b[0m__revisions\u001b[0m\u001b[1;33m:\u001b[0m\u001b[1;33m\u001b[0m\u001b[1;33m\u001b[0m\u001b[0m\n\u001b[0m\u001b[0;32m     33\u001b[0m             \u001b[0mrevision\u001b[0m\u001b[1;33m.\u001b[0m\u001b[0mpage\u001b[0m \u001b[1;33m=\u001b[0m \u001b[0mself\u001b[0m\u001b[1;33m\u001b[0m\u001b[1;33m\u001b[0m\u001b[0m\n\u001b[0;32m     34\u001b[0m             \u001b[1;32myield\u001b[0m \u001b[0mrevision\u001b[0m\u001b[1;33m\u001b[0m\u001b[1;33m\u001b[0m\u001b[0m\n",
      "\u001b[1;32m~\\AppData\\Local\\Packages\\PythonSoftwareFoundation.Python.3.9_qbz5n2kfra8p0\\LocalCache\\local-packages\\Python39\\site-packages\\mwxml\\iteration\\page.py\u001b[0m in \u001b[0;36mload_revisions\u001b[1;34m(cls, first_revision, element)\u001b[0m\n\u001b[0;32m     42\u001b[0m     \u001b[1;32mdef\u001b[0m \u001b[0mload_revisions\u001b[0m\u001b[1;33m(\u001b[0m\u001b[0mcls\u001b[0m\u001b[1;33m,\u001b[0m \u001b[0mfirst_revision\u001b[0m\u001b[1;33m,\u001b[0m \u001b[0melement\u001b[0m\u001b[1;33m)\u001b[0m\u001b[1;33m:\u001b[0m\u001b[1;33m\u001b[0m\u001b[1;33m\u001b[0m\u001b[0m\n\u001b[0;32m     43\u001b[0m         \u001b[1;32mif\u001b[0m \u001b[0mfirst_revision\u001b[0m \u001b[1;32mis\u001b[0m \u001b[1;32mnot\u001b[0m \u001b[1;32mNone\u001b[0m\u001b[1;33m:\u001b[0m\u001b[1;33m\u001b[0m\u001b[1;33m\u001b[0m\u001b[0m\n\u001b[1;32m---> 44\u001b[1;33m             \u001b[1;32myield\u001b[0m \u001b[0mRevision\u001b[0m\u001b[1;33m.\u001b[0m\u001b[0mfrom_element\u001b[0m\u001b[1;33m(\u001b[0m\u001b[0mfirst_revision\u001b[0m\u001b[1;33m)\u001b[0m\u001b[1;33m\u001b[0m\u001b[1;33m\u001b[0m\u001b[0m\n\u001b[0m\u001b[0;32m     45\u001b[0m \u001b[1;33m\u001b[0m\u001b[0m\n\u001b[0;32m     46\u001b[0m         \u001b[1;32mfor\u001b[0m \u001b[0msub_element\u001b[0m \u001b[1;32min\u001b[0m \u001b[0melement\u001b[0m\u001b[1;33m:\u001b[0m\u001b[1;33m\u001b[0m\u001b[1;33m\u001b[0m\u001b[0m\n",
      "\u001b[1;32m~\\AppData\\Local\\Packages\\PythonSoftwareFoundation.Python.3.9_qbz5n2kfra8p0\\LocalCache\\local-packages\\Python39\\site-packages\\mwxml\\iteration\\revision.py\u001b[0m in \u001b[0;36mfrom_element\u001b[1;34m(cls, element)\u001b[0m\n\u001b[0;32m     56\u001b[0m                 \u001b[0mtext_deleted\u001b[0m \u001b[1;33m=\u001b[0m \u001b[0msub_element\u001b[0m\u001b[1;33m.\u001b[0m\u001b[0mattr\u001b[0m\u001b[1;33m(\u001b[0m\u001b[1;34m'deleted'\u001b[0m\u001b[1;33m)\u001b[0m \u001b[1;32mis\u001b[0m \u001b[1;32mnot\u001b[0m \u001b[1;32mNone\u001b[0m\u001b[1;33m\u001b[0m\u001b[1;33m\u001b[0m\u001b[0m\n\u001b[0;32m     57\u001b[0m                 \u001b[1;32mif\u001b[0m \u001b[1;32mnot\u001b[0m \u001b[0mtext_deleted\u001b[0m\u001b[1;33m:\u001b[0m\u001b[1;33m\u001b[0m\u001b[1;33m\u001b[0m\u001b[0m\n\u001b[1;32m---> 58\u001b[1;33m                     \u001b[0mtext\u001b[0m \u001b[1;33m=\u001b[0m \u001b[0msub_element\u001b[0m\u001b[1;33m.\u001b[0m\u001b[0mtext\u001b[0m\u001b[1;33m\u001b[0m\u001b[1;33m\u001b[0m\u001b[0m\n\u001b[0m\u001b[0;32m     59\u001b[0m                 \u001b[0mbytes\u001b[0m \u001b[1;33m=\u001b[0m \u001b[0msub_element\u001b[0m\u001b[1;33m.\u001b[0m\u001b[0mattr\u001b[0m\u001b[1;33m(\u001b[0m\u001b[1;34m'bytes'\u001b[0m\u001b[1;33m)\u001b[0m\u001b[1;33m\u001b[0m\u001b[1;33m\u001b[0m\u001b[0m\n\u001b[0;32m     60\u001b[0m             \u001b[1;32melse\u001b[0m\u001b[1;33m:\u001b[0m\u001b[1;33m\u001b[0m\u001b[1;33m\u001b[0m\u001b[0m\n",
      "\u001b[1;32m~\\AppData\\Local\\Packages\\PythonSoftwareFoundation.Python.3.9_qbz5n2kfra8p0\\LocalCache\\local-packages\\Python39\\site-packages\\mwxml\\element_iterator.py\u001b[0m in \u001b[0;36m__getattr__\u001b[1;34m(self, attr)\u001b[0m\n\u001b[0;32m     87\u001b[0m             \u001b[1;32mreturn\u001b[0m \u001b[0mtrim_ns\u001b[0m\u001b[1;33m(\u001b[0m\u001b[0mself\u001b[0m\u001b[1;33m.\u001b[0m\u001b[0melement\u001b[0m\u001b[1;33m.\u001b[0m\u001b[0mtag\u001b[0m\u001b[1;33m)\u001b[0m\u001b[1;33m\u001b[0m\u001b[1;33m\u001b[0m\u001b[0m\n\u001b[0;32m     88\u001b[0m         \u001b[1;32melif\u001b[0m \u001b[0mattr\u001b[0m \u001b[1;33m==\u001b[0m \u001b[1;34m\"text\"\u001b[0m\u001b[1;33m:\u001b[0m\u001b[1;33m\u001b[0m\u001b[1;33m\u001b[0m\u001b[0m\n\u001b[1;32m---> 89\u001b[1;33m             \u001b[0mself\u001b[0m\u001b[1;33m.\u001b[0m\u001b[0mcomplete\u001b[0m\u001b[1;33m(\u001b[0m\u001b[1;33m)\u001b[0m\u001b[1;33m\u001b[0m\u001b[1;33m\u001b[0m\u001b[0m\n\u001b[0m\u001b[0;32m     90\u001b[0m             \u001b[1;32mreturn\u001b[0m \u001b[0mself\u001b[0m\u001b[1;33m.\u001b[0m\u001b[0melement\u001b[0m\u001b[1;33m.\u001b[0m\u001b[0mtext\u001b[0m\u001b[1;33m\u001b[0m\u001b[1;33m\u001b[0m\u001b[0m\n\u001b[0;32m     91\u001b[0m         \u001b[1;32melse\u001b[0m\u001b[1;33m:\u001b[0m\u001b[1;33m\u001b[0m\u001b[1;33m\u001b[0m\u001b[0m\n",
      "\u001b[1;32m~\\AppData\\Local\\Packages\\PythonSoftwareFoundation.Python.3.9_qbz5n2kfra8p0\\LocalCache\\local-packages\\Python39\\site-packages\\mwxml\\element_iterator.py\u001b[0m in \u001b[0;36mcomplete\u001b[1;34m(self)\u001b[0m\n\u001b[0;32m     70\u001b[0m \u001b[1;33m\u001b[0m\u001b[0m\n\u001b[0;32m     71\u001b[0m         \u001b[1;32mwhile\u001b[0m \u001b[1;32mnot\u001b[0m \u001b[0mself\u001b[0m\u001b[1;33m.\u001b[0m\u001b[0mdone\u001b[0m \u001b[1;32mand\u001b[0m \u001b[0mself\u001b[0m\u001b[1;33m.\u001b[0m\u001b[0mpointer\u001b[0m\u001b[1;33m.\u001b[0m\u001b[0mdepth\u001b[0m\u001b[1;33m(\u001b[0m\u001b[1;33m)\u001b[0m \u001b[1;33m>\u001b[0m \u001b[0mself\u001b[0m\u001b[1;33m.\u001b[0m\u001b[0mdepth\u001b[0m\u001b[1;33m:\u001b[0m\u001b[1;33m\u001b[0m\u001b[1;33m\u001b[0m\u001b[0m\n\u001b[1;32m---> 72\u001b[1;33m             \u001b[0mevent\u001b[0m\u001b[1;33m,\u001b[0m \u001b[0melement\u001b[0m \u001b[1;33m=\u001b[0m \u001b[0mnext\u001b[0m\u001b[1;33m(\u001b[0m\u001b[0mself\u001b[0m\u001b[1;33m.\u001b[0m\u001b[0mpointer\u001b[0m\u001b[1;33m)\u001b[0m\u001b[1;33m\u001b[0m\u001b[1;33m\u001b[0m\u001b[0m\n\u001b[0m\u001b[0;32m     73\u001b[0m             \u001b[1;32mif\u001b[0m \u001b[0mself\u001b[0m\u001b[1;33m.\u001b[0m\u001b[0mpointer\u001b[0m\u001b[1;33m.\u001b[0m\u001b[0mdepth\u001b[0m\u001b[1;33m(\u001b[0m\u001b[1;33m)\u001b[0m \u001b[1;33m>\u001b[0m \u001b[0mself\u001b[0m\u001b[1;33m.\u001b[0m\u001b[0mdepth\u001b[0m\u001b[1;33m:\u001b[0m\u001b[1;33m\u001b[0m\u001b[1;33m\u001b[0m\u001b[0m\n\u001b[0;32m     74\u001b[0m                 \u001b[0melement\u001b[0m\u001b[1;33m.\u001b[0m\u001b[0mclear\u001b[0m\u001b[1;33m(\u001b[0m\u001b[1;33m)\u001b[0m\u001b[1;33m\u001b[0m\u001b[1;33m\u001b[0m\u001b[0m\n",
      "\u001b[1;32m~\\AppData\\Local\\Packages\\PythonSoftwareFoundation.Python.3.9_qbz5n2kfra8p0\\LocalCache\\local-packages\\Python39\\site-packages\\mwxml\\element_iterator.py\u001b[0m in \u001b[0;36m__next__\u001b[1;34m(self)\u001b[0m\n\u001b[0;32m     20\u001b[0m \u001b[1;33m\u001b[0m\u001b[0m\n\u001b[0;32m     21\u001b[0m     \u001b[1;32mdef\u001b[0m \u001b[0m__next__\u001b[0m\u001b[1;33m(\u001b[0m\u001b[0mself\u001b[0m\u001b[1;33m)\u001b[0m\u001b[1;33m:\u001b[0m\u001b[1;33m\u001b[0m\u001b[1;33m\u001b[0m\u001b[0m\n\u001b[1;32m---> 22\u001b[1;33m         \u001b[0mevent\u001b[0m\u001b[1;33m,\u001b[0m \u001b[0melement\u001b[0m \u001b[1;33m=\u001b[0m \u001b[0mnext\u001b[0m\u001b[1;33m(\u001b[0m\u001b[0mself\u001b[0m\u001b[1;33m.\u001b[0m\u001b[0metree_events\u001b[0m\u001b[1;33m)\u001b[0m\u001b[1;33m\u001b[0m\u001b[1;33m\u001b[0m\u001b[0m\n\u001b[0m\u001b[0;32m     23\u001b[0m \u001b[1;33m\u001b[0m\u001b[0m\n\u001b[0;32m     24\u001b[0m         \u001b[0mtag\u001b[0m \u001b[1;33m=\u001b[0m \u001b[0mtrim_ns\u001b[0m\u001b[1;33m(\u001b[0m\u001b[0melement\u001b[0m\u001b[1;33m.\u001b[0m\u001b[0mtag\u001b[0m\u001b[1;33m)\u001b[0m\u001b[1;33m\u001b[0m\u001b[1;33m\u001b[0m\u001b[0m\n",
      "\u001b[1;32mC:\\Program Files\\WindowsApps\\PythonSoftwareFoundation.Python.3.9_3.9.2800.0_x64__qbz5n2kfra8p0\\lib\\xml\\etree\\ElementTree.py\u001b[0m in \u001b[0;36miterator\u001b[1;34m()\u001b[0m\n\u001b[0;32m   1254\u001b[0m                 \u001b[1;32myield\u001b[0m \u001b[1;32mfrom\u001b[0m \u001b[0mpullparser\u001b[0m\u001b[1;33m.\u001b[0m\u001b[0mread_events\u001b[0m\u001b[1;33m(\u001b[0m\u001b[1;33m)\u001b[0m\u001b[1;33m\u001b[0m\u001b[1;33m\u001b[0m\u001b[0m\n\u001b[0;32m   1255\u001b[0m                 \u001b[1;31m# load event buffer\u001b[0m\u001b[1;33m\u001b[0m\u001b[1;33m\u001b[0m\u001b[0m\n\u001b[1;32m-> 1256\u001b[1;33m                 \u001b[0mdata\u001b[0m \u001b[1;33m=\u001b[0m \u001b[0msource\u001b[0m\u001b[1;33m.\u001b[0m\u001b[0mread\u001b[0m\u001b[1;33m(\u001b[0m\u001b[1;36m16\u001b[0m \u001b[1;33m*\u001b[0m \u001b[1;36m1024\u001b[0m\u001b[1;33m)\u001b[0m\u001b[1;33m\u001b[0m\u001b[1;33m\u001b[0m\u001b[0m\n\u001b[0m\u001b[0;32m   1257\u001b[0m                 \u001b[1;32mif\u001b[0m \u001b[1;32mnot\u001b[0m \u001b[0mdata\u001b[0m\u001b[1;33m:\u001b[0m\u001b[1;33m\u001b[0m\u001b[1;33m\u001b[0m\u001b[0m\n\u001b[0;32m   1258\u001b[0m                     \u001b[1;32mbreak\u001b[0m\u001b[1;33m\u001b[0m\u001b[1;33m\u001b[0m\u001b[0m\n",
      "\u001b[1;32mC:\\Program Files\\WindowsApps\\PythonSoftwareFoundation.Python.3.9_3.9.2800.0_x64__qbz5n2kfra8p0\\lib\\bz2.py\u001b[0m in \u001b[0;36mread1\u001b[1;34m(self, size)\u001b[0m\n\u001b[0;32m    182\u001b[0m             \u001b[1;32mif\u001b[0m \u001b[0msize\u001b[0m \u001b[1;33m<\u001b[0m \u001b[1;36m0\u001b[0m\u001b[1;33m:\u001b[0m\u001b[1;33m\u001b[0m\u001b[1;33m\u001b[0m\u001b[0m\n\u001b[0;32m    183\u001b[0m                 \u001b[0msize\u001b[0m \u001b[1;33m=\u001b[0m \u001b[0mio\u001b[0m\u001b[1;33m.\u001b[0m\u001b[0mDEFAULT_BUFFER_SIZE\u001b[0m\u001b[1;33m\u001b[0m\u001b[1;33m\u001b[0m\u001b[0m\n\u001b[1;32m--> 184\u001b[1;33m             \u001b[1;32mreturn\u001b[0m \u001b[0mself\u001b[0m\u001b[1;33m.\u001b[0m\u001b[0m_buffer\u001b[0m\u001b[1;33m.\u001b[0m\u001b[0mread1\u001b[0m\u001b[1;33m(\u001b[0m\u001b[0msize\u001b[0m\u001b[1;33m)\u001b[0m\u001b[1;33m\u001b[0m\u001b[1;33m\u001b[0m\u001b[0m\n\u001b[0m\u001b[0;32m    185\u001b[0m \u001b[1;33m\u001b[0m\u001b[0m\n\u001b[0;32m    186\u001b[0m     \u001b[1;32mdef\u001b[0m \u001b[0mreadinto\u001b[0m\u001b[1;33m(\u001b[0m\u001b[0mself\u001b[0m\u001b[1;33m,\u001b[0m \u001b[0mb\u001b[0m\u001b[1;33m)\u001b[0m\u001b[1;33m:\u001b[0m\u001b[1;33m\u001b[0m\u001b[1;33m\u001b[0m\u001b[0m\n",
      "\u001b[1;32mC:\\Program Files\\WindowsApps\\PythonSoftwareFoundation.Python.3.9_3.9.2800.0_x64__qbz5n2kfra8p0\\lib\\_compression.py\u001b[0m in \u001b[0;36mreadinto\u001b[1;34m(self, b)\u001b[0m\n\u001b[0;32m     66\u001b[0m     \u001b[1;32mdef\u001b[0m \u001b[0mreadinto\u001b[0m\u001b[1;33m(\u001b[0m\u001b[0mself\u001b[0m\u001b[1;33m,\u001b[0m \u001b[0mb\u001b[0m\u001b[1;33m)\u001b[0m\u001b[1;33m:\u001b[0m\u001b[1;33m\u001b[0m\u001b[1;33m\u001b[0m\u001b[0m\n\u001b[0;32m     67\u001b[0m         \u001b[1;32mwith\u001b[0m \u001b[0mmemoryview\u001b[0m\u001b[1;33m(\u001b[0m\u001b[0mb\u001b[0m\u001b[1;33m)\u001b[0m \u001b[1;32mas\u001b[0m \u001b[0mview\u001b[0m\u001b[1;33m,\u001b[0m \u001b[0mview\u001b[0m\u001b[1;33m.\u001b[0m\u001b[0mcast\u001b[0m\u001b[1;33m(\u001b[0m\u001b[1;34m\"B\"\u001b[0m\u001b[1;33m)\u001b[0m \u001b[1;32mas\u001b[0m \u001b[0mbyte_view\u001b[0m\u001b[1;33m:\u001b[0m\u001b[1;33m\u001b[0m\u001b[1;33m\u001b[0m\u001b[0m\n\u001b[1;32m---> 68\u001b[1;33m             \u001b[0mdata\u001b[0m \u001b[1;33m=\u001b[0m \u001b[0mself\u001b[0m\u001b[1;33m.\u001b[0m\u001b[0mread\u001b[0m\u001b[1;33m(\u001b[0m\u001b[0mlen\u001b[0m\u001b[1;33m(\u001b[0m\u001b[0mbyte_view\u001b[0m\u001b[1;33m)\u001b[0m\u001b[1;33m)\u001b[0m\u001b[1;33m\u001b[0m\u001b[1;33m\u001b[0m\u001b[0m\n\u001b[0m\u001b[0;32m     69\u001b[0m             \u001b[0mbyte_view\u001b[0m\u001b[1;33m[\u001b[0m\u001b[1;33m:\u001b[0m\u001b[0mlen\u001b[0m\u001b[1;33m(\u001b[0m\u001b[0mdata\u001b[0m\u001b[1;33m)\u001b[0m\u001b[1;33m]\u001b[0m \u001b[1;33m=\u001b[0m \u001b[0mdata\u001b[0m\u001b[1;33m\u001b[0m\u001b[1;33m\u001b[0m\u001b[0m\n\u001b[0;32m     70\u001b[0m         \u001b[1;32mreturn\u001b[0m \u001b[0mlen\u001b[0m\u001b[1;33m(\u001b[0m\u001b[0mdata\u001b[0m\u001b[1;33m)\u001b[0m\u001b[1;33m\u001b[0m\u001b[1;33m\u001b[0m\u001b[0m\n",
      "\u001b[1;32mC:\\Program Files\\WindowsApps\\PythonSoftwareFoundation.Python.3.9_3.9.2800.0_x64__qbz5n2kfra8p0\\lib\\_compression.py\u001b[0m in \u001b[0;36mread\u001b[1;34m(self, size)\u001b[0m\n\u001b[0;32m    101\u001b[0m                 \u001b[1;32melse\u001b[0m\u001b[1;33m:\u001b[0m\u001b[1;33m\u001b[0m\u001b[1;33m\u001b[0m\u001b[0m\n\u001b[0;32m    102\u001b[0m                     \u001b[0mrawblock\u001b[0m \u001b[1;33m=\u001b[0m \u001b[1;34mb\"\"\u001b[0m\u001b[1;33m\u001b[0m\u001b[1;33m\u001b[0m\u001b[0m\n\u001b[1;32m--> 103\u001b[1;33m                 \u001b[0mdata\u001b[0m \u001b[1;33m=\u001b[0m \u001b[0mself\u001b[0m\u001b[1;33m.\u001b[0m\u001b[0m_decompressor\u001b[0m\u001b[1;33m.\u001b[0m\u001b[0mdecompress\u001b[0m\u001b[1;33m(\u001b[0m\u001b[0mrawblock\u001b[0m\u001b[1;33m,\u001b[0m \u001b[0msize\u001b[0m\u001b[1;33m)\u001b[0m\u001b[1;33m\u001b[0m\u001b[1;33m\u001b[0m\u001b[0m\n\u001b[0m\u001b[0;32m    104\u001b[0m             \u001b[1;32mif\u001b[0m \u001b[0mdata\u001b[0m\u001b[1;33m:\u001b[0m\u001b[1;33m\u001b[0m\u001b[1;33m\u001b[0m\u001b[0m\n\u001b[0;32m    105\u001b[0m                 \u001b[1;32mbreak\u001b[0m\u001b[1;33m\u001b[0m\u001b[1;33m\u001b[0m\u001b[0m\n",
      "\u001b[1;31mKeyboardInterrupt\u001b[0m: "
     ]
    }
   ],
   "source": [
    "\n",
    "# convert wiki xml files into text and save as binary file\n",
    "\n",
    "for i in range(0, len(paths)):\n",
    "    current_file_number = i # 1 less than number of file\n",
    "\n",
    "    current_file = [paths[current_file_number]]\n",
    "    input_file_name = re.findall(\"multistream\\d+\", current_file[0])[0]\n",
    "    output_file = re.sub(r\"multistream\", \"\", input_file_name) + \"_\" + re.findall(\"p\\d+p\\d+\", current_file[0])[0]\n",
    "\n",
    "    begin_process_dump(current_file, output_file)\n"
   ]
  },
  {
   "cell_type": "code",
   "execution_count": null,
   "id": "76f9c9d5",
   "metadata": {},
   "outputs": [],
   "source": []
  },
  {
   "cell_type": "code",
   "execution_count": null,
   "id": "c2ea27df",
   "metadata": {},
   "outputs": [],
   "source": []
  },
  {
   "cell_type": "code",
   "execution_count": null,
   "id": "01a7fe91",
   "metadata": {},
   "outputs": [],
   "source": []
  },
  {
   "cell_type": "code",
   "execution_count": null,
   "id": "7db8ad60",
   "metadata": {},
   "outputs": [],
   "source": []
  },
  {
   "cell_type": "code",
   "execution_count": 1,
   "id": "b07691ae",
   "metadata": {},
   "outputs": [
    {
     "name": "stderr",
     "output_type": "stream",
     "text": [
      "[nltk_data] Downloading package vader_lexicon to\n",
      "[nltk_data]     C:\\Users\\nross\\AppData\\Roaming\\nltk_data...\n",
      "[nltk_data]   Package vader_lexicon is already up-to-date!\n"
     ]
    },
    {
     "data": {
      "text/plain": [
       "True"
      ]
     },
     "execution_count": 1,
     "metadata": {},
     "output_type": "execute_result"
    }
   ],
   "source": [
    "import nltk\n",
    "nltk.download('vader_lexicon')"
   ]
  },
  {
   "cell_type": "code",
   "execution_count": 4,
   "id": "92290ec6",
   "metadata": {},
   "outputs": [],
   "source": [
    "from nltk.sentiment.vader import SentimentIntensityAnalyzer\n",
    "import random\n",
    "import pickle\n",
    "import glob"
   ]
  },
  {
   "cell_type": "code",
   "execution_count": null,
   "id": "c398a147",
   "metadata": {},
   "outputs": [],
   "source": [
    "proc = glob.glob(\"F:/_GroupProject/WordsOnlyData/*\")\n",
    "\n",
    "scores = []\n",
    "sid = SentimentIntensityAnalyzer()\n",
    "\n",
    "sample_size = 0\n",
    "\n",
    "file_counter = 0\n",
    "\n",
    "for path in proc:\n",
    "    \n",
    "    print(file_counter)\n",
    "    file_counter += 1\n",
    "    \n",
    "    bf = open(path, \"rb\")\n",
    "    a = pickle.load(bf)\n",
    "\n",
    "    sample = 1500\n",
    "    sample_size += sample\n",
    "    \n",
    "    for i in range(sample):\n",
    "        if (len(a[i][1]) > 100):\n",
    "            score = sid.polarity_scores(a[i][1])\n",
    "            scores.append(score)\n",
    "\n",
    "    bf.close()"
   ]
  },
  {
   "cell_type": "code",
   "execution_count": 6,
   "id": "49be93ce",
   "metadata": {},
   "outputs": [
    {
     "data": {
      "text/plain": [
       "61908"
      ]
     },
     "execution_count": 6,
     "metadata": {},
     "output_type": "execute_result"
    }
   ],
   "source": [
    "len(scores)"
   ]
  },
  {
   "cell_type": "code",
   "execution_count": 8,
   "id": "4a7bc447",
   "metadata": {},
   "outputs": [],
   "source": [
    "negative = 0\n",
    "neutral = 0\n",
    "positive = 0\n",
    "for i in range(len(scores)):\n",
    "    # a file is category X when P(X) > 0.33\n",
    "    if (scores[i]['neg'] >= scores[i]['neu'] and scores[i]['neg'] >= scores[i]['pos']):\n",
    "        negative += 1\n",
    "    elif (scores[i]['neu'] >= scores[i]['neg'] and scores[i]['neu'] >= scores[i]['pos']):\n",
    "        neutral += 1\n",
    "    else:\n",
    "        positive += 1"
   ]
  },
  {
   "cell_type": "code",
   "execution_count": 9,
   "id": "fd6131f7",
   "metadata": {},
   "outputs": [],
   "source": [
    "assert(negative + neutral + positive == len(scores))"
   ]
  },
  {
   "cell_type": "code",
   "execution_count": 10,
   "id": "81d740ce",
   "metadata": {},
   "outputs": [],
   "source": [
    "total_negative = negative / len(scores)\n",
    "total_neutral = neutral / len(scores)\n",
    "total_positive = positive / len(scores)"
   ]
  },
  {
   "cell_type": "code",
   "execution_count": 11,
   "id": "16583693",
   "metadata": {},
   "outputs": [
    {
     "data": {
      "text/plain": [
       "1.0"
      ]
     },
     "execution_count": 11,
     "metadata": {},
     "output_type": "execute_result"
    }
   ],
   "source": [
    "total_negative + total_neutral + total_positive"
   ]
  },
  {
   "cell_type": "code",
   "execution_count": 12,
   "id": "7532ad58",
   "metadata": {},
   "outputs": [
    {
     "data": {
      "text/plain": [
       "0.9995800219680817"
      ]
     },
     "execution_count": 12,
     "metadata": {},
     "output_type": "execute_result"
    }
   ],
   "source": [
    "total_neutral"
   ]
  },
  {
   "cell_type": "code",
   "execution_count": null,
   "id": "cd67882a",
   "metadata": {},
   "outputs": [],
   "source": []
  },
  {
   "cell_type": "code",
   "execution_count": null,
   "id": "ebc2c710",
   "metadata": {},
   "outputs": [],
   "source": []
  },
  {
   "cell_type": "code",
   "execution_count": null,
   "id": "7cfd8d47",
   "metadata": {},
   "outputs": [],
   "source": []
  },
  {
   "cell_type": "code",
   "execution_count": null,
   "id": "390c87e5",
   "metadata": {},
   "outputs": [],
   "source": []
  },
  {
   "cell_type": "code",
   "execution_count": null,
   "id": "71d29ad8",
   "metadata": {},
   "outputs": [],
   "source": []
  },
  {
   "cell_type": "code",
   "execution_count": 18,
   "id": "969f3eb2",
   "metadata": {},
   "outputs": [
    {
     "name": "stdout",
     "output_type": "stream",
     "text": [
      "49784\n",
      "\n",
      "\n",
      "<class 'tuple'>\n",
      "\n",
      "\n",
      "Anarchism\n",
      "\n",
      "\n",
      " Anarchism is a political philosophy and Political movement movement that is sceptical of authority and rejects all involuntary coercive forms of Social hierarchy hierarchy Anarchism calls for the abolition of the State of the socialist movement and has a strong historical association with anti capitalism and socialism Humans lived in society societies without formal hierarchies long before the establishment of formal states realm s or empire s With the rise of organised hierarchical bodies scepticism toward authority also rose Although traces of anarchist thought are found throughout history modern anarchism emerged from the Age of Enlightenment Enlightenment During the latter half of the th and the first decades of the th century the anarchist movement flourished in most parts of the world and had a significant role in workers struggles for emancipation Various anarchist schools of thought formed during this period Anarchists have taken part in several revolutions most notably in the Paris Commune the Russian Civil War and the Spanish Civil War whose end marked the end of the classical era of anarchism In the last decades of the th and into the st century the anarchist movement has been resurgent once more Anarchism employs a diversity of tactics in order to meet its ideal ends which can be broadly separated into revolutionary and evolutionary tactics there is significant overlap between the two which are merely descriptive Revolutionary tactics aim to bring down authority and state having taken a violent turn in the past while evolutionary tactics aim to prefigure what an anarchist society would be like Anarchist thought criticism and Praxis praxis have played a part in diverse areas of human society Criticism of anarchism include claims that it is internally inconsistent violent or utopian The etymological origin of anarchism is from the Ancient Greek anarkhia meaning without a ruler composed of the prefix an The suffix ism denotes the ideological current that favours anarchy The first political philosopher to call himself an anarchist While the term libertarian has been largely synonymous with anarchism While opposition to the state is central to anarchist thought defining anarchism is not an easy task for scholars as there is a lot of discussion among scholars and anarchists on the matter and various currents perceive anarchism slightly differently Before the establishment of towns and cities an established authority did not exist It was after the creation of institutions of authority that anarchistic ideas espoused as a reaction Anarchic attitudes were also articulated by tragedians and philosophers in Greece Aeschylus and Sophocles used the myth of Antigone to illustrate the conflict between rules set by the state and personal autonomy Socrates questioned Athenian authorities constantly and insisted on the right of individual freedom of conscience Cynicism Stoics were supportive of a society based on unofficial and friendly relations among its citizens without the presence of a state In Middle Ages medieval Europe there was no anarchistic activity except some ascetic religious movements These and other Muslim movements later gave birth to religious anarchism In the Sasanian Empire Mazdak called for an egalitarian society and the abolition of monarchy only to be soon executed by Emperor Kavad I In Basra religious sects preached against the state During the French Revolution partisan groups such as the Enragés and the Drawing from mutualism Mikhail Bakunin founded collectivist anarchism and entered the International Workingmen s Association a class worker union later known as the First International that formed in to unite diverse revolutionary currents The International became a significant political force with Karl Marx being a leading figure and a member of its General Council Bakunin s faction opposed state socialism advocating political abstentionism and small property holdings At the turn of the century anarchism had spread all over the world Despite concerns anarchists enthusiastically participated in the Russian Revolution in opposition to the White movement however they met harsh suppression after the Bolshevik government was stabilised Several anarchists from Petrograd and Moscow fled to Ukraine In the Spanish Civil War of anarchists and syndicalists once again allied themselves with various currents of leftists A long tradition of Spanish anarchism led to anarchists playing a pivotal role in the war In response to the army rebellion an anarchist inspired movement of peasants and workers supported by armed militias took control of Barcelona and of large areas of rural Spain where they collectivised the land At the end of World War II the anarchist movement was severely weakened Around the turn of the st century anarchism grew in popularity and influence within anti capitalist anti war and anti globalisation movements Anarchist schools of thought have been generally grouped into two main historical traditions social anarchism and individualist anarchism owing to their different origins values and evolution Beyond the specific factions of anarchist movements which constitute political anarchism lies philosophical anarchism which holds that the state lacks moral legitimacy without necessarily accepting the imperative of revolution to eliminate it Anarchism is usually placed on the far left of the political spectrum Inceptive currents among classical anarchist currents were Mutualism They differ on organisational and economic aspects of their ideal society Mutualism is an th century economic theory that was developed into anarchist theory by Pierre Joseph Proudhon Its aims include Reciprocity free association voluntary contract federation and monetary reform of both credit and currency that would be regulated by a bank of the people Anarcho communism is a theory of anarchism that advocates a communist society with common ownership of the means of production Individualist anarchism is a set of several traditions of thought within the anarchist movement that emphasise the individual and their Will will over any kinds of external determinants Anarchist principles undergird contemporary radical social movements of the left Interest in the anarchist movement developed alongside momentum in the anti globalisation movement Contemporary news coverage which emphasizes black bloc demonstrations has reinforced anarchism s historical association with chaos and violence Its publicity has also led more scholars in fields such as anthropology and history to engage with the anarchist movement although contemporary anarchism favours actions over academic theory Anarchists are generally committed against coercive authority in all forms namely all centralized and hierarchical forms of government patriarchy heterosexism white supremacy and imperialism Anarchists tactics take various forms but in general serve two major goals namely to first oppose the Establishment and secondly to promote anarchist ethics and reflect an anarchist vision of society illustrating the unity of means and ends Anarchist tactics have shifted during the course of the last century Anarchists during the early th century focused more on strikes and militancy while contemporary anarchists use a broader array of approaches During the classical era anarchists had a militant tendency Not only did they confront state armed forces as in Spain and Ukraine but some of them also employed terrorism as propaganda of the deed Assassination attempts were carried out against heads of state some of which were successful Anarchists also took part in revolution s Anarchist perspectives towards violence have always been controversial Anarchists took an active role in strike action s although they tended to be antipathetic to formal syndicalism seeing it as reformist They saw it as a part of the movement which sought to overthrow the State state and capitalism In the current era Italian anarchist Alfredo Bonanno a proponent of insurrectionary anarchism has reinstated the debate on violence by rejecting the nonviolence tactic adopted since the late th century by Kropotkin and other prominent anarchists afterwards Both Bonanno and the French group The Invisible Committee advocate for small informal affiliation groups where each member is responsible for their own actions but works together to bring down oppression utilizing sabotage and other violent means against state capitalism and other enemies Members of The Invisible Committee were arrested in on various charges terrorism included Overall contemporary anarchists are much less violent and militant than their ideological ancestors They mostly engage in confronting the police during demonstrations and riots especially in countries such as Anarchism in Canada Canada Anarchism in Greece Greece and Anarchism in Mexico Mexico Militant black bloc protest groups are known for clashing with the police Anarchists commonly employ direct action This can take the form of disrupting and protesting against unjust hierarchy or the form of self managing their lives through the creation of counter institutions such as communes and non hierarchical collectives The decision making process of small anarchist affinity group s plays a significant tactical role As in the past newspapers and journals are used and anarchists have gone online in the World Wide Web to spread their message Anarchists have found it easier to create websites because of distributional and other difficulties hosting electronic libraries and other portals Anarchists organize themselves to Squatting squat and reclaim public spaces During important events such as protests and when spaces are being occupied they are often called Temporary Autonomous Zone s spaces where art poetry and surrealism are blended to display the anarchist ideal As anarchism is a philosophy that embodies many diverse attitudes tendencies and schools of thought disagreement over questions of values ideology and tactics is common Its diversity has led to widely different uses of identical terms among different anarchist traditions which has created a number of definitional concerns in anarchist theory The compatibility of Anarchism and capitalism capitalism As gender and sexuality carry along them dynamics of hierarchy many anarchists address analyse and oppose the suppression of one s autonomy imposed by gender roles Sexuality was not often discussed by classical anarchists but the few that did felt that an anarchist society would lead to sexuality naturally developing During the second half of the th century anarchism intermingled with the second wave of feminism radicalising some currents of the feminist movement and being influenced as well By the latest decades of the th century anarchists and feminists were advocating for the rights and autonomy of women gays queers and other marginalised groups with some feminist thinkers suggesting a fusion of the two currents class= wikitable style= border none background none float right The interest of anarchists in education stretches back to the first emergence of classical anarchism Anarchists consider proper education one which sets the foundations of the future autonomy of the individual and the society to be an act of Mutual aid mutual aid In Catalan anarchist and free thinker Francisco Ferrer established the Escuela Moderna in Barcelona as an opposition to the established education system which was dictated largely by the Catholic Church Anarchist education is based largely on the idea that a child s right to develop freely and without manipulation ought to be respected and that rationality would lead children to morally good conclusions however there has been little consensus among anarchist figures as to what constitutes manipulation Ferrer believed that moral indoctrination was necessary and explicitly taught pupils that equality liberty and social justice were not possible under capitalism along with other critiques of government and nationalism Late th century and contemporary anarchist writers intensified and expanded the anarchist critique of state education largely focusing on the need for a system that focuses on children s creativity rather than on their ability to attain a career or participate in consumerism as part of a consumer society While few anarchist education institutions have survived to the modern day major tenets of anarchist schools among them respect for child autonomy and relying on reasoning rather than indoctrination as a teaching method have spread among mainstream educational institutions Judith Suissa names three schools as explicitly anarchists schools namely the Free Skool Santa Cruz in the United States which is part of a wider American Canadian network of schools the Self Managed Learning College in Brighton England and the Paideia School in Spain Objection to the State state and its institutions is a sine qua non of anarchism Specific anarchist attitudes towards the state vary Robert Paul Wolff believed that the tension between authority and autonomy would mean the state could never be legitimate Bakunin saw the state as meaning coercion domination by means of coercion camouflaged if possible but unceremonious and overt if need be A John Simmons and Leslie Green Leslie Green who leaned toward philosophical anarchism believed that the state could be legitimate if it is governed by consensus although they saw this as highly unlikely The connection between anarchism and art was quite profound during the classical era of anarchism especially among artistic currents that were developing during that era such as futurists surrealists and others Other anarchists advocated for or used art as a means to achieve anarchist ends Three overlapping properties made art useful to anarchists It could depict a critique of existing society and hierarchies serve as a prefigurative tool to reflect the anarchist ideal society and even turn into a means of direct action such as in protests As it appeals to both emotion and reason art could appeal to the whole human and have a powerful effect The most common critique of anarchism is that humans cannot self govern and so a state is necessary for human survival Philosopher Bertrand Russell supported this critique stating that p eace and war tariffs regulations of sanitary conditions and the sale of noxious drugs the preservation of a just system of distribution these among others are functions which could hardly be performed in a community in which there was no central government Philosophy lecturer Andrew G Fiala composed a list of common arguments against anarchism which includes critiques such as that anarchism is innately related to violence and destruction not only in the pragmatic world such as at protests but in the world of ethics as well Secondly anarchism is evaluated as unfeasible or utopian since the state cannot be defeated practically This line of arguments most often calls for political action within the system to reform it The third argument is that anarchism is self contradictory While it advocates for no one to archiei if accepted by the many then anarchism would turn into the ruling political theory In this line of criticism also comes the self contradiction that anarchism calls for collective action whilst endorsing the autonomy of the individual hence no collective action can be taken Lastly Fiala mentions a critique towards philosophical anarchism of being ineffective and in the meantime capitalism and bourgeois class remains strong Philosophical anarchism has met the criticism of members of academia following the release of pro anarchist books such as A John Simmons Moral Principles and Political Obligations One of the earliest criticisms is that anarchism defies and fails to understand the biological inclination to authority Friedrich Engels considered to be one of the principal founders of Marxism criticised anarchism s anti authoritarianism as inherently counter revolutionary because in his view a revolution is by itself authoritarian \n"
     ]
    }
   ],
   "source": [
    "import pickle\n",
    "\n",
    "file = open(\"F:/_GroupProject/sample_data\", \"rb\")\n",
    "samples = pickle.load(file)\n",
    "\n",
    "print(len(samples))\n",
    "print(\"\\n\")\n",
    "print(type(samples[0]))\n",
    "print(\"\\n\")\n",
    "print(samples[0][0])\n",
    "print(\"\\n\")\n",
    "print(samples[0][1])"
   ]
  },
  {
   "cell_type": "code",
   "execution_count": null,
   "id": "e0df633c",
   "metadata": {},
   "outputs": [],
   "source": []
  },
  {
   "cell_type": "code",
   "execution_count": null,
   "id": "aa8c55a7",
   "metadata": {},
   "outputs": [],
   "source": []
  }
 ],
 "metadata": {
  "kernelspec": {
   "display_name": "Python 3 (ipykernel)",
   "language": "python",
   "name": "python3"
  },
  "language_info": {
   "codemirror_mode": {
    "name": "ipython",
    "version": 3
   },
   "file_extension": ".py",
   "mimetype": "text/x-python",
   "name": "python",
   "nbconvert_exporter": "python",
   "pygments_lexer": "ipython3",
   "version": "3.9.10"
  }
 },
 "nbformat": 4,
 "nbformat_minor": 5
}
